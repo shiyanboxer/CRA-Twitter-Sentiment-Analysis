{
 "cells": [
  {
   "cell_type": "code",
   "execution_count": null,
   "metadata": {},
   "outputs": [],
   "source": [
    "\"\"\"\n",
    "README.md\n",
    "Language: Twitter\n",
    "Libraries: twitter, nltk, re, csv, time, and json\n",
    "API: RESTful API - tweepy\n",
    "\n",
    "Resources: \n",
    "https://towardsdatascience.com/creating-the-twitter-sentiment-analysis-program-in-python-with-naive-bayes-classification-672e5589a7ed\n",
    "https://www.datacamp.com/community/tutorials/simplifying-sentiment-analysis-python\n",
    "\n",
    "Steps: \n",
    "Section A: Preparing The Test Set\n",
    "Step A.1: Getting the authentication credentials\n",
    "Step A.2: Authenticating our Python script\n",
    "Step A.3: Creating the function to build the Test set\n",
    "Section B: Preparing The Training Set\n",
    "Section C: Pre-processing Tweets in The Data Sets\n",
    "Section D: Naive Bayes Classifier\n",
    "Step D.1: Building the vocabulary\n",
    "Step D.2: Matching tweets against our vocabulary\n",
    "Step D.3: Building our feature vector\n",
    "Step D.4: Training the classifier\n",
    "Section E: Testing The Model\n",
    "\n",
    "\"\"\""
   ]
  },
  {
   "cell_type": "code",
   "execution_count": null,
   "metadata": {},
   "outputs": [],
   "source": [
    "\"\"\"\n",
    "Section A: Preparing The Test Set\n",
    "Step A.1: Getting the authentication credentials\n",
    "\n",
    "Subsetps\n",
    "    In order to use the python-twitter API client, you first need to acquire a set of application tokens. \n",
    "    These will be your consumer_key and consumer_secret, which get passed to twitter.Api() when starting your application.\n",
    "    https://python-twitter.readthedocs.io/en/latest/getting_started.html\n",
    "    \n",
    "1. Register Twitter application to get our own credentials (consumer and access), create your app\n",
    "    https://developer.twitter.com/en/apps\n",
    "2- Authenticate our Python script with the API using the credentials.\n",
    "    import twitter\n",
    "    api = twitter.Api(consumer_key=[consumer key],\n",
    "                      consumer_secret=[consumer secret],\n",
    "                      access_token_key=[access token],\n",
    "                      access_token_secret=[access token secret]\n",
    "3- Create function to download tweets based on a search keyword\n",
    "\n",
    "\n",
    "\n",
    "\n",
    "\n",
    "\"\"\""
   ]
  },
  {
   "cell_type": "code",
   "execution_count": null,
   "metadata": {},
   "outputs": [],
   "source": [
    "import twitter\n",
    "api = twitter.Api(consumer_key=[consumer key],\n",
    "                  consumer_secret=[consumer secret],\n",
    "                  access_token_key=[access token],\n",
    "                  access_token_secret=[access token secret]"
   ]
  }
 ],
 "metadata": {
  "kernelspec": {
   "display_name": "Python 3",
   "language": "python",
   "name": "python3"
  },
  "language_info": {
   "codemirror_mode": {
    "name": "ipython",
    "version": 3
   },
   "file_extension": ".py",
   "mimetype": "text/x-python",
   "name": "python",
   "nbconvert_exporter": "python",
   "pygments_lexer": "ipython3",
   "version": "3.7.3"
  }
 },
 "nbformat": 4,
 "nbformat_minor": 2
}
